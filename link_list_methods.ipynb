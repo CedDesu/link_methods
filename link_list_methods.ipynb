{
 "cells": [
  {
   "cell_type": "markdown",
   "id": "42cfa66d",
   "metadata": {},
   "source": [
    "Assignment (to be discuss and pass on Oct 19, 2025):\n",
    "\n",
    "Update the sample code and create the following methods\n",
    "Create the methods\n",
    "\n",
    "a. remove_beginning(self)\n",
    "#this will return the data that was removed at the beginning\n",
    "\n",
    "b. remove_at_end(self)\n",
    "#this will return the data that was removed at the end\n",
    "\n",
    "c. remove_at(self,data)\n",
    "#this will return the data that was removed else return null if data not found"
   ]
  },
  {
   "cell_type": "code",
   "execution_count": null,
   "id": "271b27ac",
   "metadata": {},
   "outputs": [],
   "source": [
    "class Node:\n",
    "    def __init__(self, data):\n",
    "        self.data = data\n",
    "        self.next = None\n",
    "\n",
    "\n",
    "class LinkedList:\n",
    "    def __init__(self):\n",
    "        self.head = None\n",
    "\n",
    "    def remove_beginning(self):   # Removes data at the beginning.\n",
    "        if not self.head:\n",
    "            return None\n",
    "        removed_data = self.head.data\n",
    "        self.head = self.head.next\n",
    "        return removed_data\n",
    "\n",
    "    def remove_at_end(self):   # Removes data at the end.\n",
    "        if not self.head:\n",
    "            return None\n",
    "        if not self.head.next:\n",
    "            removed_data = self.head.data\n",
    "            self.head = None\n",
    "            return removed_data\n",
    "\n",
    "        current = self.head\n",
    "        while current.next.next:\n",
    "            current = current.next\n",
    "        removed_data = current.next.data\n",
    "        current.next = None\n",
    "        return removed_data\n",
    "\n",
    "    def remove_at(self, data): #Returns the data that was removed else return null if data not found.\n",
    "        if not self.head:\n",
    "            return None\n",
    "        \n",
    "        if self.head.data == data:\n",
    "            return self.remove_beginning()\n",
    "\n",
    "        current = self.head\n",
    "        while current.next and current.next.data != data:\n",
    "            current = current.next\n",
    "\n",
    "        if not current.next:  \n",
    "            return None\n",
    "\n",
    "        removed_data = current.next.data\n",
    "        current.next = current.next.next\n",
    "        return removed_data\n"
   ]
  }
 ],
 "metadata": {
  "kernelspec": {
   "display_name": "Python 3",
   "language": "python",
   "name": "python3"
  },
  "language_info": {
   "name": "python",
   "version": "3.13.2"
  }
 },
 "nbformat": 4,
 "nbformat_minor": 5
}
